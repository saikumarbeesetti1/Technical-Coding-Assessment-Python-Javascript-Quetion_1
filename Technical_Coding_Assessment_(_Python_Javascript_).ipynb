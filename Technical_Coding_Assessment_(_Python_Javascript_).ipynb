{
  "cells": [
    {
      "cell_type": "markdown",
      "source": [
        "# Python Candidates - Question 1\n",
        "\n",
        "You will have a number of elements and in the next n lines element of a list. You have to create a list from the given strings. You have to sort the list based on 2nd last character of a string.\n",
        "\n",
        "For example: given list = ['great','hello','hiyo','abc'] so your output_dictionary should be ['great', 'abc', 'hello','hiyo']\n",
        "\n",
        "Input Format:\n",
        "\n",
        "At first-line it will have an integer (number of elements inside a list). In the second line, it will have a string.\n",
        "\n",
        "Output Format:\n",
        "\n",
        "A single line containing a sorted list.\n",
        "\n",
        "\n",
        "\n"
      ],
      "metadata": {
        "id": "zhr7nUh7786i"
      }
    },
    {
      "cell_type": "code",
      "source": [
        "def input_list(list_1):\n",
        "  output_list = [list_1[-4],list_1[-1],list_1[1],list_1[-2]]\n",
        "  print(\"The list based on 2nd last character of a string is : \",output_list)\n",
        "\n",
        "list_1 = (['great','hello','hiyo','abc'])\n",
        "\n",
        "print(\"The given list is : \" ,list_1)\n",
        "print(\"-\"*55,\"\\n\"*2)\n",
        "\n",
        "def alphabetical_order(list_2):\n",
        "  list_2.sort()\n",
        "  print(\"The alphabetical_order is : \",list_2)\n",
        "\n",
        "list_2 = (['great','hello','hiyo','abc'])\n",
        "\n",
        "#Printing alphabetical order\n",
        "alphabetical_order(list_2)\n",
        "print(\"-\"*65,\"\\n\"*2)\n",
        "\n",
        "#Printing The list based on 2nd last character of a string\n",
        "input_list(list_1)\n",
        "print(\"-\"*90,\"\\n\")"
      ],
      "metadata": {
        "id": "-gX7PmlAlKHN",
        "colab": {
          "base_uri": "https://localhost:8080/"
        },
        "outputId": "68d9bddb-0847-4453-f4ea-fd32dc75d3b0"
      },
      "execution_count": 197,
      "outputs": [
        {
          "output_type": "stream",
          "name": "stdout",
          "text": [
            "The given list is :  ['great', 'hello', 'hiyo', 'abc']\n",
            "------------------------------------------------------- \n",
            "\n",
            "\n",
            "The alphabetical_order is :  ['abc', 'great', 'hello', 'hiyo']\n",
            "----------------------------------------------------------------- \n",
            "\n",
            "\n",
            "The list based on 2nd last character of a string is :  ['great', 'abc', 'hello', 'hiyo']\n",
            "------------------------------------------------------------------------------------------ \n",
            "\n"
          ]
        }
      ]
    },
    {
      "cell_type": "code",
      "source": [],
      "metadata": {
        "id": "6FpO15CQxNge"
      },
      "execution_count": null,
      "outputs": []
    },
    {
      "cell_type": "code",
      "source": [],
      "metadata": {
        "id": "pWTT9dSzxNdB"
      },
      "execution_count": null,
      "outputs": []
    },
    {
      "cell_type": "code",
      "source": [],
      "metadata": {
        "id": "x7JOxzPvlKEn"
      },
      "execution_count": null,
      "outputs": []
    },
    {
      "cell_type": "code",
      "source": [],
      "metadata": {
        "id": "6V70BSFXlKCR"
      },
      "execution_count": null,
      "outputs": []
    },
    {
      "cell_type": "code",
      "source": [],
      "metadata": {
        "id": "o3MB7twMlJ_5"
      },
      "execution_count": null,
      "outputs": []
    },
    {
      "cell_type": "code",
      "source": [],
      "metadata": {
        "id": "9oRrHwCIlJ9D"
      },
      "execution_count": null,
      "outputs": []
    },
    {
      "cell_type": "code",
      "source": [],
      "metadata": {
        "id": "PhZHYTMclJ6q"
      },
      "execution_count": null,
      "outputs": []
    },
    {
      "cell_type": "code",
      "source": [],
      "metadata": {
        "id": "Nc1zt20LlJ4F"
      },
      "execution_count": null,
      "outputs": []
    },
    {
      "cell_type": "code",
      "source": [],
      "metadata": {
        "id": "v-tpciBglJ1w"
      },
      "execution_count": null,
      "outputs": []
    },
    {
      "cell_type": "code",
      "source": [],
      "metadata": {
        "id": "OZa4eqmJlJzg"
      },
      "execution_count": null,
      "outputs": []
    },
    {
      "cell_type": "code",
      "source": [],
      "metadata": {
        "id": "K1mdD-KalJwn"
      },
      "execution_count": null,
      "outputs": []
    },
    {
      "cell_type": "code",
      "source": [],
      "metadata": {
        "id": "r9QbfgH_lJt6"
      },
      "execution_count": null,
      "outputs": []
    },
    {
      "cell_type": "code",
      "source": [],
      "metadata": {
        "id": "aI1wzMlelJrb"
      },
      "execution_count": null,
      "outputs": []
    },
    {
      "cell_type": "code",
      "source": [],
      "metadata": {
        "id": "RCt08xhclJpD"
      },
      "execution_count": null,
      "outputs": []
    },
    {
      "cell_type": "code",
      "source": [],
      "metadata": {
        "id": "9rh0hO34lJmd"
      },
      "execution_count": null,
      "outputs": []
    },
    {
      "cell_type": "code",
      "source": [],
      "metadata": {
        "id": "6qHnaNbPlJj3"
      },
      "execution_count": null,
      "outputs": []
    },
    {
      "cell_type": "code",
      "source": [],
      "metadata": {
        "id": "sEjPqgPSlJhf"
      },
      "execution_count": null,
      "outputs": []
    },
    {
      "cell_type": "code",
      "source": [],
      "metadata": {
        "id": "AvcGuZvMlJfI"
      },
      "execution_count": null,
      "outputs": []
    },
    {
      "cell_type": "code",
      "source": [],
      "metadata": {
        "id": "_podWqNglJdA"
      },
      "execution_count": null,
      "outputs": []
    }
  ],
  "metadata": {
    "colab": {
      "collapsed_sections": [],
      "provenance": []
    },
    "kernelspec": {
      "display_name": "Python 3",
      "name": "python3"
    }
  },
  "nbformat": 4,
  "nbformat_minor": 0
}